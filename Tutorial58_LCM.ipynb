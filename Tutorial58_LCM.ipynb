{
  "nbformat": 4,
  "nbformat_minor": 0,
  "metadata": {
    "colab": {
      "name": "Tutorial58_LCM.ipynb",
      "provenance": [],
      "authorship_tag": "ABX9TyPAIZ0gjxsGR86X84p1z0OY",
      "include_colab_link": true
    },
    "kernelspec": {
      "name": "python3",
      "display_name": "Python 3"
    }
  },
  "cells": [
    {
      "cell_type": "markdown",
      "metadata": {
        "id": "view-in-github",
        "colab_type": "text"
      },
      "source": [
        "<a href=\"https://colab.research.google.com/github/Shambhavi-Gupta/Tutorial58_LCM/blob/main/Tutorial58_LCM.ipynb\" target=\"_parent\"><img src=\"https://colab.research.google.com/assets/colab-badge.svg\" alt=\"Open In Colab\"/></a>"
      ]
    },
    {
      "cell_type": "code",
      "metadata": {
        "id": "1p9qEkC5ugUc"
      },
      "source": [
        "a = int(input(\"Enter a number\"))\r\n",
        "b = int(input(\"Enter a number\"))\r\n",
        "num = max(a,b)\r\n",
        "while(True):\r\n",
        "    if(num%a == 0 and num%b == 0):\r\n",
        "        break\r\n",
        "    num = num + 1\r\n",
        "print(f\"LCM of {a} and {b} is {num}\")"
      ],
      "execution_count": null,
      "outputs": []
    }
  ]
}